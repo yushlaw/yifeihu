{
 "cells": [
  {
   "cell_type": "code",
   "execution_count": 1,
   "id": "be5e3a1c-a6d8-4c8d-b54c-d31f6fa2c1e3",
   "metadata": {},
   "outputs": [
    {
     "name": "stdout",
     "output_type": "stream",
     "text": [
      "cuda\n"
     ]
    }
   ],
   "source": [
    "# check out https://huggingface.co/microsoft/Phi-3.5-vision-instruct for more details\n",
    "\n",
    "import torch\n",
    "from transformers import AutoModelForCausalLM, AutoProcessor, BitsAndBytesConfig\n",
    "from PIL import Image\n",
    "import requests\n",
    "\n",
    "model_id = \"yifeihu/TB-OCR-preview-0.1\"\n",
    "\n",
    "DEVICE = torch.device(\"cuda\" if torch.cuda.is_available() else \"cpu\")\n",
    "print(DEVICE)"
   ]
  },
  {
   "cell_type": "code",
   "execution_count": 2,
   "id": "fad87fb1-73ce-4ce1-b873-4b68fadbd3e9",
   "metadata": {},
   "outputs": [
    {
     "data": {
      "application/vnd.jupyter.widget-view+json": {
       "model_id": "0c0ae6e5cdc64f07b227903ebaf9188e",
       "version_major": 2,
       "version_minor": 0
      },
      "text/plain": [
       "Loading checkpoint shards:   0%|          | 0/2 [00:00<?, ?it/s]"
      ]
     },
     "metadata": {},
     "output_type": "display_data"
    }
   ],
   "source": [
    "# Note: set _attn_implementation='eager' if you don't have flash_attn installed\n",
    "model = AutoModelForCausalLM.from_pretrained(\n",
    "  model_id, \n",
    "  device_map=\"cuda\", \n",
    "  trust_remote_code=True, \n",
    "  torch_dtype=\"auto\", \n",
    "  _attn_implementation='eager',\n",
    "  quantization_config=BitsAndBytesConfig(load_in_4bit=False) # Optional: Load model in 4-bit mode to save memory\n",
    ")"
   ]
  },
  {
   "cell_type": "code",
   "execution_count": 3,
   "id": "0c810039-c1ec-4c4e-b432-6b042591c5ed",
   "metadata": {},
   "outputs": [
    {
     "name": "stderr",
     "output_type": "stream",
     "text": [
      "c:\\users\\yushl\\desktop\\ws\\yifeihu\\env\\lib\\site-packages\\transformers\\models\\auto\\image_processing_auto.py:520: FutureWarning: The image_processor_class argument is deprecated and will be removed in v4.42. Please use `slow_image_processor_class`, or `fast_image_processor_class` instead\n",
      "  warnings.warn(\n"
     ]
    }
   ],
   "source": [
    "processor = AutoProcessor.from_pretrained(model_id, \n",
    "  trust_remote_code=True, \n",
    "  num_crops=16\n",
    ")"
   ]
  },
  {
   "cell_type": "code",
   "execution_count": 10,
   "id": "7334745e-f905-4c3d-9b96-fed9c7c6fb5f",
   "metadata": {},
   "outputs": [],
   "source": [
    "def phi_ocr(image1):\n",
    "    question = \"Convert the text to markdown format.\"\n",
    "    question = \"extract text from image into a json output.\" # this is required\n",
    "    \n",
    "    prompt_message = [{\n",
    "        'role': 'user',\n",
    "        'content': f'<|image_1|>\\n{question}',\n",
    "    }]\n",
    "\n",
    "    prompt = processor.tokenizer.apply_chat_template(prompt_message, tokenize=False, add_generation_prompt=True)\n",
    "    inputs = processor(prompt, [image1], return_tensors=\"pt\").to(\"cuda\") \n",
    "\n",
    "    generation_args = { \n",
    "        \"max_new_tokens\": 1024, \n",
    "        \"temperature\": 0.1, \n",
    "        \"do_sample\": False\n",
    "    }\n",
    "\n",
    "    generate_ids = model.generate(**inputs, eos_token_id=processor.tokenizer.eos_token_id, **generation_args\n",
    "    )\n",
    "\n",
    "    generate_ids = generate_ids[:, inputs['input_ids'].shape[1]:]\n",
    "    response = processor.batch_decode(generate_ids, skip_special_tokens=True, clean_up_tokenization_spaces=False)[0] \n",
    "\n",
    "    response = response.split(\"<image_end>\")[0] # remove the image_end token \n",
    "\n",
    "    return response"
   ]
  },
  {
   "cell_type": "code",
   "execution_count": 11,
   "id": "ebafdcd7-77bc-40b9-8174-136f7a5fd0ff",
   "metadata": {},
   "outputs": [],
   "source": [
    "import fitz\n",
    "\n",
    "def load_pdf(im):\n",
    "    doc = fitz.open(im)\n",
    "    page = doc[0]\n",
    "    zoom = 1\n",
    "    mat = fitz.Matrix(zoom, zoom)\n",
    "    pix = page.get_pixmap(matrix=mat)\n",
    "    return Image.frombytes('RGB', [pix.width, pix.height], pix.samples)"
   ]
  },
  {
   "cell_type": "code",
   "execution_count": 12,
   "id": "7cdc5086-d124-4062-a08d-fa1cd4364623",
   "metadata": {},
   "outputs": [
    {
     "name": "stdout",
     "output_type": "stream",
     "text": [
      "**Form 5500**\n",
      "\n",
      "*Annual Return/Report of Employee Benefit Plan*\n",
      "\n",
      "2023\n",
      "\n",
      "*Department of the Treasury*\n",
      "\n",
      "*Internal Revenue Service*\n",
      "\n",
      "*Department of Labor*\n",
      "\n",
      "*Employer Benefit Service*\n",
      "\n",
      "*Administration*\n",
      "\n",
      "*Pension Benefit Guaranty Corporation*\n",
      "\n",
      "*Part I* Annual Report Identification Information\n",
      "\n",
      "*For calendar plan year 2023 or fiscal plan year beginning*\n",
      "\n",
      "*A this return/report is for:*\n",
      "\n",
      "*A single-employer plan (Firms checking this box must provide participating employer information)*\n",
      "\n",
      "*B This return/report is:*\n",
      "\n",
      "*A single-employer plan*\n",
      "\n",
      "*A DFE (specify—*\n",
      "\n",
      "*A single-employer plan*\n",
      "\n",
      "*A the final return/report (less than 12 months)*\n",
      "\n",
      "*C If the plan is collectively-bargained check here…*\n",
      "\n",
      "*D Check box if filing under:*\n",
      "\n",
      "*A Form 558*\n",
      "\n",
      "*A automatic extension*\n",
      "\n",
      "*E If this is a retroactively adopted plan permitted by SECURE Act section 201, check here…*\n",
      "\n",
      "*D Check box if filing under:*\n",
      "\n",
      "*A Form 558*\n",
      "\n",
      "*A special extension (enter description)*\n",
      "\n",
      "*E If this is a retroactively adopted plan permitted by SECURE Act section 201, check here…*\n",
      "\n",
      "*F Name of plan*\n",
      "\n",
      "*G Basic Plan Information—enter all requested information*\n",
      "\n",
      "*Ia Name of plan*\n",
      "\n",
      "*Ja Name of plan*\n",
      "\n",
      "*K Name of plan*\n",
      "\n",
      "*L Name of plan*\n",
      "\n",
      "*M Name of plan*\n",
      "\n",
      "*N Name of plan*\n",
      "\n",
      "*O Name of plan*\n",
      "\n",
      "*P Name of plan*\n",
      "\n",
      "*Q Name of plan*\n",
      "\n",
      "*R Name of plan*\n",
      "\n",
      "*S Name of plan*\n",
      "\n",
      "*T Name of plan*\n",
      "\n",
      "*U Name of plan*\n",
      "\n",
      "*V Name of plan*\n",
      "\n",
      "*W Name of plan*\n",
      "\n",
      "*X Name of plan*\n",
      "\n",
      "*Y Name of plan*\n",
      "\n",
      "*Z Name of plan*\n",
      "\n",
      "*A Caution: A penalty for the late or incomplete filing of this return/report will be assessed unless reasonable cause is established.*\n",
      "\n",
      "*Under penalties of perjury and other penalties set in the instructions, I declare that I have examined this return/report including accompanying schedules, statements and attachments, as well as the electronic version of this return/report, and to the best of my knowledge and belief, it is true, correct, and complete.*\n",
      "\n",
      "*SIGNI* HERE *Signature of plan administrator*\n",
      "\n",
      "*Date*\n",
      "\n",
      "*Enter name of individual signing as plan administrator*\n",
      "\n",
      "*SIGNI* HERE *Signature of employer/plan sponsor*\n",
      "\n",
      "*Date*\n",
      "\n",
      "*Enter name of individual signing as employer or plan sponsor*\n",
      "\n",
      "*SIGNI* HERE *Signature of employer/plan sponsor*\n",
      "\n",
      "*Date*\n",
      "\n",
      "*Enter name of individual signing as DFE*\n",
      "\n",
      "*For Paperwork Reduction Act Notice, see the instructions for Form 5500*\n",
      "CPU times: total: 1min 4s\n",
      "Wall time: 1min 5s\n"
     ]
    }
   ],
   "source": [
    "%%time\n",
    "test_image_url = \"https://huggingface.co/yifeihu/TB-OCR-preview-0.1/resolve/main/sample_input_1.png?download=true\"\n",
    "#image = Image.open(requests.get(test_image_url, stream=True).raw)\n",
    "\n",
    "image = Image.open('invoice7.png').convert('RGB')\n",
    "image = load_pdf('2023-form-5500.pdf')\n",
    "#image = load_pdf('t5008-23b.pdf')\n",
    "\n",
    "response = phi_ocr(image)\n",
    "print(response)\n"
   ]
  },
  {
   "cell_type": "code",
   "execution_count": null,
   "id": "12ef2949-ad06-4c86-9d82-8a10a7e50add",
   "metadata": {},
   "outputs": [],
   "source": []
  }
 ],
 "metadata": {
  "kernelspec": {
   "display_name": "Python 3 (ipykernel)",
   "language": "python",
   "name": "python3"
  },
  "language_info": {
   "codemirror_mode": {
    "name": "ipython",
    "version": 3
   },
   "file_extension": ".py",
   "mimetype": "text/x-python",
   "name": "python",
   "nbconvert_exporter": "python",
   "pygments_lexer": "ipython3",
   "version": "3.8.10"
  }
 },
 "nbformat": 4,
 "nbformat_minor": 5
}
